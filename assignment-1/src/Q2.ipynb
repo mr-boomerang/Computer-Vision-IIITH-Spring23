{
 "cells": [
  {
   "cell_type": "code",
   "execution_count": 1,
   "metadata": {},
   "outputs": [],
   "source": [
    "import cv2\n",
    "import numpy as np\n",
    "import matplotlib.pyplot as plt\n",
    "\n",
    "import matplotlib.image as mpimg\n",
    "\n",
    "np.set_printoptions(suppress=True)"
   ]
  },
  {
   "cell_type": "code",
   "execution_count": 2,
   "metadata": {},
   "outputs": [],
   "source": [
    "# Makes a matrix homogeneous - appends one to the end of each row\n",
    "def make_homo(no_homo):\n",
    "    homo = np.hstack([no_homo, np.ones(no_homo.shape[0]).reshape(-1,1)])\n",
    "    return homo"
   ]
  },
  {
   "cell_type": "code",
   "execution_count": 3,
   "metadata": {},
   "outputs": [],
   "source": [
    "def DLT(x, X):\n",
    "    # Txyz, X = Normalization(3, X)\n",
    "    # Tuv, x = Normalization(2, x)\n",
    "    \n",
    "    A = []\n",
    "    for i in range(x.shape[0]):\n",
    "        A.append(\n",
    "            [X[i][0], X[i][1], X[i][2], X[i][3],       0,       0,       0,       0, -x[i][0]*X[i][0], -x[i][0]*X[i][1], -x[i][0]*X[i][2], -x[i][0]]\n",
    "            )\n",
    "        A.append(\n",
    "            [      0,       0,       0,       0, X[i][0], X[i][1], X[i][2], X[i][3], -x[i][1]*X[i][0], -x[i][1]*X[i][1], -x[i][1]*X[i][2], -x[i][1]]\n",
    "            )\n",
    "    \n",
    "    A = np.asarray(A) * -1\n",
    "\n",
    "    U,S,V = np.linalg.svd(A)\n",
    "    \n",
    "    # The column of V is the solution corresponding to the smallest singular value\n",
    "    P = V[np.argmin(S)]\n",
    "\n",
    "    # Reshape P to 3x4\n",
    "    P = P.reshape(3,4)\n",
    "    \n",
    "    # Normalize\n",
    "    # P = P/P[2, 3]\n",
    "\n",
    "\n",
    "    return P"
   ]
  },
  {
   "cell_type": "code",
   "execution_count": 4,
   "metadata": {},
   "outputs": [],
   "source": [
    "def project_points(P, X):\n",
    "    x = P @ X.T\n",
    "    x = x/x[2]\n",
    "    return x.T[:, :2]\n",
    "\n",
    "def get_projection_error(x, x_proj):\n",
    "    return np.mean(np.linalg.norm(x_proj - x, axis=1))"
   ]
  },
  {
   "cell_type": "code",
   "execution_count": 5,
   "metadata": {},
   "outputs": [],
   "source": [
    "def get_properties(P):\n",
    "    KR = P[:, :3]\n",
    "    Kt = P[:, 3]\n",
    "\n",
    "    K, R  = np.linalg.qr(KR)\n",
    "    \n",
    "    K = K/K[2, 2]\n",
    "    K_inv = np.linalg.pinv(K)\n",
    "\n",
    "    t = K_inv @ Kt\n",
    "    return K, R, t"
   ]
  },
  {
   "cell_type": "code",
   "execution_count": 6,
   "metadata": {},
   "outputs": [],
   "source": [
    "def generate_projection_matrix(K, R, t):\n",
    "    E = np.hstack([R, np.atleast_2d(t).T])\n",
    "    I = K\n",
    "    \n",
    "    P = I @ E \n",
    "    return P"
   ]
  },
  {
   "cell_type": "code",
   "execution_count": 7,
   "metadata": {},
   "outputs": [],
   "source": [
    "image_coords= np.array([\n",
    "        (982,2046),  (986,2228),  (1004,2396), (1009,2586), (1017,2745),\n",
    "        (1925,2015), (1920,2192), (1920,2369), (1920,2541), (1916,2705), \n",
    "        (1287,2161), (1292,2316), (1292,2484), \n",
    "        (1783,2488), (1787,2329), (1787,2161), \n",
    "        (1544,2091), (1544,2245), (1544,2400), (1548,2555)\n",
    "    ])\n",
    "\n",
    "world_coords = np.array([\n",
    "                    [0,2,4], [0,3,4], [0,4,4], [0,5,4], [0,6,4],\n",
    "                    [3,2,0], [3,3,0], [3,4,0], [3,5,0], [3,6,0],\n",
    "                    [0,3,2], [0,4,2], [0,5,2],\n",
    "                    [2,5,0], [2,4,0], [2,3,0],\n",
    "                    [0,3,0], [0,4,0], [0,5,0], [0,6,0]\n",
    "                ])"
   ]
  },
  {
   "cell_type": "code",
   "execution_count": 8,
   "metadata": {},
   "outputs": [],
   "source": [
    "def RansacDLT(image_coords, world_coords, n_samples, thresh, n_iters):\n",
    "    # small x denotes the image coordinates\n",
    "    x = make_homo(image_coords)\n",
    "\n",
    "    # big X denotes the world coordinates\n",
    "    X = make_homo(world_coords)\n",
    "\n",
    "    total_pts = x.shape[0]\n",
    "\n",
    "    best_inliers = []\n",
    "    P_best = None\n",
    "    projection_error = None\n",
    "    for i in range(n_iters):\n",
    "        sample_idxs = np.random.randint(0, total_pts, n_samples)\n",
    "\n",
    "        x_sampled = x[sample_idxs]\n",
    "        X_sampled = X[sample_idxs]\n",
    "\n",
    "        P = DLT(x_sampled, X_sampled)\n",
    "\n",
    "        x_proj = make_homo(project_points(P, X))\n",
    "\n",
    "        errors = np.linalg.norm(x_proj - x, axis = 1)\n",
    "\n",
    "        inliers = np.where(errors < thresh)[0]\n",
    "        if len(inliers) > len(best_inliers):\n",
    "            best_inliers = inliers\n",
    "            P_best = P\n",
    "            projection_error = get_projection_error(x, x_proj)\n",
    "    return P_best, best_inliers, projection_error"
   ]
  },
  {
   "cell_type": "code",
   "execution_count": 9,
   "metadata": {},
   "outputs": [
    {
     "name": "stderr",
     "output_type": "stream",
     "text": [
      "/tmp/ipykernel_94723/2015651045.py:3: RuntimeWarning: invalid value encountered in divide\n",
      "  x = x/x[2]\n",
      "/tmp/ipykernel_94723/2015651045.py:3: RuntimeWarning: divide by zero encountered in divide\n",
      "  x = x/x[2]\n"
     ]
    },
    {
     "data": {
      "text/plain": [
       "16"
      ]
     },
     "execution_count": 9,
     "metadata": {},
     "output_type": "execute_result"
    }
   ],
   "source": [
    "P, inliers, projection_error = RansacDLT(image_coords, world_coords, n_samples = 6, thresh = 5, n_iters = 10000)\n",
    "\n",
    "inliers.size"
   ]
  },
  {
   "cell_type": "code",
   "execution_count": 10,
   "metadata": {},
   "outputs": [
    {
     "data": {
      "text/plain": [
       "3.526884426722794"
      ]
     },
     "execution_count": 10,
     "metadata": {},
     "output_type": "execute_result"
    }
   ],
   "source": [
    "projection_error"
   ]
  },
  {
   "cell_type": "code",
   "execution_count": null,
   "metadata": {},
   "outputs": [],
   "source": []
  }
 ],
 "metadata": {
  "kernelspec": {
   "display_name": "Python 3",
   "language": "python",
   "name": "python3"
  },
  "language_info": {
   "codemirror_mode": {
    "name": "ipython",
    "version": 3
   },
   "file_extension": ".py",
   "mimetype": "text/x-python",
   "name": "python",
   "nbconvert_exporter": "python",
   "pygments_lexer": "ipython3",
   "version": "3.8.10"
  },
  "orig_nbformat": 4,
  "vscode": {
   "interpreter": {
    "hash": "767d51c1340bd893661ea55ea3124f6de3c7a262a8b4abca0554b478b1e2ff90"
   }
  }
 },
 "nbformat": 4,
 "nbformat_minor": 2
}
